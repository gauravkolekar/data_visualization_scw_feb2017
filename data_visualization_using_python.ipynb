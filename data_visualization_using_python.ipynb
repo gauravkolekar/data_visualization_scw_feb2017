{
 "cells": [
  {
   "cell_type": "markdown",
   "metadata": {},
   "source": [
    "# Data Visualization using Python"
   ]
  },
  {
   "cell_type": "markdown",
   "metadata": {},
   "source": [
    "1. How to check python is setup properly. <br><br>\n",
    "start cmd and type *python --version* <br>\n",
    "The prompt should ideally return *Python 3.5.2 :: Anaconda 4.2.0 (64-bit)* <br><br>\n",
    "2. Start Anaconda Navigator\n",
    "3. Launch Jupyter\n",
    "4. Rename the Notebook <br><br>\n",
    "give good name *data_visualization_using_python* helps later will using Git "
   ]
  },
  {
   "cell_type": "code",
   "execution_count": null,
   "metadata": {
    "collapsed": true
   },
   "outputs": [],
   "source": []
  }
 ],
 "metadata": {
  "anaconda-cloud": {},
  "kernelspec": {
   "display_name": "Python [default]",
   "language": "python",
   "name": "python3"
  },
  "language_info": {
   "codemirror_mode": {
    "name": "ipython",
    "version": 3
   },
   "file_extension": ".py",
   "mimetype": "text/x-python",
   "name": "python",
   "nbconvert_exporter": "python",
   "pygments_lexer": "ipython3",
   "version": "3.5.2"
  }
 },
 "nbformat": 4,
 "nbformat_minor": 1
}
